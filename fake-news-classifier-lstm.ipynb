{
 "cells": [
  {
   "cell_type": "code",
   "execution_count": 1,
   "id": "ff0cfb1a",
   "metadata": {
    "execution": {
     "iopub.execute_input": "2022-07-31T23:26:45.753929Z",
     "iopub.status.busy": "2022-07-31T23:26:45.753494Z",
     "iopub.status.idle": "2022-07-31T23:26:45.765826Z",
     "shell.execute_reply": "2022-07-31T23:26:45.764636Z"
    },
    "papermill": {
     "duration": 0.027163,
     "end_time": "2022-07-31T23:26:45.768605",
     "exception": false,
     "start_time": "2022-07-31T23:26:45.741442",
     "status": "completed"
    },
    "tags": []
   },
   "outputs": [],
   "source": [
    "import pandas as pd"
   ]
  },
  {
   "cell_type": "code",
   "execution_count": 2,
   "id": "0f47215b",
   "metadata": {
    "execution": {
     "iopub.execute_input": "2022-07-31T23:26:45.792481Z",
     "iopub.status.busy": "2022-07-31T23:26:45.791994Z",
     "iopub.status.idle": "2022-07-31T23:26:48.230793Z",
     "shell.execute_reply": "2022-07-31T23:26:48.229640Z"
    },
    "papermill": {
     "duration": 2.455372,
     "end_time": "2022-07-31T23:26:48.233536",
     "exception": false,
     "start_time": "2022-07-31T23:26:45.778164",
     "status": "completed"
    },
    "tags": []
   },
   "outputs": [],
   "source": [
    "df=pd.read_csv('../input/fake-news-data/train.csv')"
   ]
  },
  {
   "cell_type": "code",
   "execution_count": 3,
   "id": "6631947a",
   "metadata": {
    "execution": {
     "iopub.execute_input": "2022-07-31T23:26:48.254967Z",
     "iopub.status.busy": "2022-07-31T23:26:48.254591Z",
     "iopub.status.idle": "2022-07-31T23:26:48.276632Z",
     "shell.execute_reply": "2022-07-31T23:26:48.275414Z"
    },
    "papermill": {
     "duration": 0.036681,
     "end_time": "2022-07-31T23:26:48.279590",
     "exception": false,
     "start_time": "2022-07-31T23:26:48.242909",
     "status": "completed"
    },
    "tags": []
   },
   "outputs": [
    {
     "data": {
      "text/html": [
       "<div>\n",
       "<style scoped>\n",
       "    .dataframe tbody tr th:only-of-type {\n",
       "        vertical-align: middle;\n",
       "    }\n",
       "\n",
       "    .dataframe tbody tr th {\n",
       "        vertical-align: top;\n",
       "    }\n",
       "\n",
       "    .dataframe thead th {\n",
       "        text-align: right;\n",
       "    }\n",
       "</style>\n",
       "<table border=\"1\" class=\"dataframe\">\n",
       "  <thead>\n",
       "    <tr style=\"text-align: right;\">\n",
       "      <th></th>\n",
       "      <th>id</th>\n",
       "      <th>title</th>\n",
       "      <th>author</th>\n",
       "      <th>text</th>\n",
       "      <th>label</th>\n",
       "    </tr>\n",
       "  </thead>\n",
       "  <tbody>\n",
       "    <tr>\n",
       "      <th>0</th>\n",
       "      <td>0</td>\n",
       "      <td>House Dem Aide: We Didn’t Even See Comey’s Let...</td>\n",
       "      <td>Darrell Lucus</td>\n",
       "      <td>House Dem Aide: We Didn’t Even See Comey’s Let...</td>\n",
       "      <td>1</td>\n",
       "    </tr>\n",
       "    <tr>\n",
       "      <th>1</th>\n",
       "      <td>1</td>\n",
       "      <td>FLYNN: Hillary Clinton, Big Woman on Campus - ...</td>\n",
       "      <td>Daniel J. Flynn</td>\n",
       "      <td>Ever get the feeling your life circles the rou...</td>\n",
       "      <td>0</td>\n",
       "    </tr>\n",
       "    <tr>\n",
       "      <th>2</th>\n",
       "      <td>2</td>\n",
       "      <td>Why the Truth Might Get You Fired</td>\n",
       "      <td>Consortiumnews.com</td>\n",
       "      <td>Why the Truth Might Get You Fired October 29, ...</td>\n",
       "      <td>1</td>\n",
       "    </tr>\n",
       "    <tr>\n",
       "      <th>3</th>\n",
       "      <td>3</td>\n",
       "      <td>15 Civilians Killed In Single US Airstrike Hav...</td>\n",
       "      <td>Jessica Purkiss</td>\n",
       "      <td>Videos 15 Civilians Killed In Single US Airstr...</td>\n",
       "      <td>1</td>\n",
       "    </tr>\n",
       "    <tr>\n",
       "      <th>4</th>\n",
       "      <td>4</td>\n",
       "      <td>Iranian woman jailed for fictional unpublished...</td>\n",
       "      <td>Howard Portnoy</td>\n",
       "      <td>Print \\nAn Iranian woman has been sentenced to...</td>\n",
       "      <td>1</td>\n",
       "    </tr>\n",
       "  </tbody>\n",
       "</table>\n",
       "</div>"
      ],
      "text/plain": [
       "   id                                              title              author  \\\n",
       "0   0  House Dem Aide: We Didn’t Even See Comey’s Let...       Darrell Lucus   \n",
       "1   1  FLYNN: Hillary Clinton, Big Woman on Campus - ...     Daniel J. Flynn   \n",
       "2   2                  Why the Truth Might Get You Fired  Consortiumnews.com   \n",
       "3   3  15 Civilians Killed In Single US Airstrike Hav...     Jessica Purkiss   \n",
       "4   4  Iranian woman jailed for fictional unpublished...      Howard Portnoy   \n",
       "\n",
       "                                                text  label  \n",
       "0  House Dem Aide: We Didn’t Even See Comey’s Let...      1  \n",
       "1  Ever get the feeling your life circles the rou...      0  \n",
       "2  Why the Truth Might Get You Fired October 29, ...      1  \n",
       "3  Videos 15 Civilians Killed In Single US Airstr...      1  \n",
       "4  Print \\nAn Iranian woman has been sentenced to...      1  "
      ]
     },
     "execution_count": 3,
     "metadata": {},
     "output_type": "execute_result"
    }
   ],
   "source": [
    "df.head()"
   ]
  },
  {
   "cell_type": "code",
   "execution_count": 4,
   "id": "8c05f2d0",
   "metadata": {
    "execution": {
     "iopub.execute_input": "2022-07-31T23:26:48.300972Z",
     "iopub.status.busy": "2022-07-31T23:26:48.300561Z",
     "iopub.status.idle": "2022-07-31T23:26:48.319412Z",
     "shell.execute_reply": "2022-07-31T23:26:48.318319Z"
    },
    "papermill": {
     "duration": 0.032388,
     "end_time": "2022-07-31T23:26:48.321801",
     "exception": false,
     "start_time": "2022-07-31T23:26:48.289413",
     "status": "completed"
    },
    "tags": []
   },
   "outputs": [
    {
     "data": {
      "text/plain": [
       "id           0\n",
       "title      558\n",
       "author    1957\n",
       "text        39\n",
       "label        0\n",
       "dtype: int64"
      ]
     },
     "execution_count": 4,
     "metadata": {},
     "output_type": "execute_result"
    }
   ],
   "source": [
    "df.isnull().sum()"
   ]
  },
  {
   "cell_type": "code",
   "execution_count": 5,
   "id": "6a36a03a",
   "metadata": {
    "execution": {
     "iopub.execute_input": "2022-07-31T23:26:48.344369Z",
     "iopub.status.busy": "2022-07-31T23:26:48.343174Z",
     "iopub.status.idle": "2022-07-31T23:26:48.350247Z",
     "shell.execute_reply": "2022-07-31T23:26:48.349400Z"
    },
    "papermill": {
     "duration": 0.020847,
     "end_time": "2022-07-31T23:26:48.352441",
     "exception": false,
     "start_time": "2022-07-31T23:26:48.331594",
     "status": "completed"
    },
    "tags": []
   },
   "outputs": [
    {
     "data": {
      "text/plain": [
       "(20800, 5)"
      ]
     },
     "execution_count": 5,
     "metadata": {},
     "output_type": "execute_result"
    }
   ],
   "source": [
    "df.shape"
   ]
  },
  {
   "cell_type": "code",
   "execution_count": 6,
   "id": "0fedad36",
   "metadata": {
    "execution": {
     "iopub.execute_input": "2022-07-31T23:26:48.375026Z",
     "iopub.status.busy": "2022-07-31T23:26:48.373941Z",
     "iopub.status.idle": "2022-07-31T23:26:48.395664Z",
     "shell.execute_reply": "2022-07-31T23:26:48.394548Z"
    },
    "papermill": {
     "duration": 0.035944,
     "end_time": "2022-07-31T23:26:48.398230",
     "exception": false,
     "start_time": "2022-07-31T23:26:48.362286",
     "status": "completed"
    },
    "tags": []
   },
   "outputs": [],
   "source": [
    "###Drop Nan Values\n",
    "df=df.dropna()"
   ]
  },
  {
   "cell_type": "code",
   "execution_count": 7,
   "id": "6ca260e4",
   "metadata": {
    "execution": {
     "iopub.execute_input": "2022-07-31T23:26:48.420413Z",
     "iopub.status.busy": "2022-07-31T23:26:48.419980Z",
     "iopub.status.idle": "2022-07-31T23:26:48.431303Z",
     "shell.execute_reply": "2022-07-31T23:26:48.430310Z"
    },
    "papermill": {
     "duration": 0.02516,
     "end_time": "2022-07-31T23:26:48.433437",
     "exception": false,
     "start_time": "2022-07-31T23:26:48.408277",
     "status": "completed"
    },
    "tags": []
   },
   "outputs": [],
   "source": [
    "## Get the Independent Features\n",
    "\n",
    "X=df.drop('label',axis=1)"
   ]
  },
  {
   "cell_type": "code",
   "execution_count": 8,
   "id": "eaf8f177",
   "metadata": {
    "execution": {
     "iopub.execute_input": "2022-07-31T23:26:48.455310Z",
     "iopub.status.busy": "2022-07-31T23:26:48.454687Z",
     "iopub.status.idle": "2022-07-31T23:26:48.460180Z",
     "shell.execute_reply": "2022-07-31T23:26:48.459411Z"
    },
    "papermill": {
     "duration": 0.018859,
     "end_time": "2022-07-31T23:26:48.462380",
     "exception": false,
     "start_time": "2022-07-31T23:26:48.443521",
     "status": "completed"
    },
    "tags": []
   },
   "outputs": [],
   "source": [
    "## Get the Dependent features\n",
    "y=df['label']"
   ]
  },
  {
   "cell_type": "code",
   "execution_count": 9,
   "id": "ff50ad5e",
   "metadata": {
    "execution": {
     "iopub.execute_input": "2022-07-31T23:26:48.484469Z",
     "iopub.status.busy": "2022-07-31T23:26:48.483884Z",
     "iopub.status.idle": "2022-07-31T23:26:48.489636Z",
     "shell.execute_reply": "2022-07-31T23:26:48.488473Z"
    },
    "papermill": {
     "duration": 0.019603,
     "end_time": "2022-07-31T23:26:48.491781",
     "exception": false,
     "start_time": "2022-07-31T23:26:48.472178",
     "status": "completed"
    },
    "tags": []
   },
   "outputs": [
    {
     "data": {
      "text/plain": [
       "((18285, 4), (18285,))"
      ]
     },
     "execution_count": 9,
     "metadata": {},
     "output_type": "execute_result"
    }
   ],
   "source": [
    "X.shape, y.shape"
   ]
  },
  {
   "cell_type": "code",
   "execution_count": 10,
   "id": "f735e064",
   "metadata": {
    "execution": {
     "iopub.execute_input": "2022-07-31T23:26:48.513845Z",
     "iopub.status.busy": "2022-07-31T23:26:48.513242Z",
     "iopub.status.idle": "2022-07-31T23:26:57.198299Z",
     "shell.execute_reply": "2022-07-31T23:26:57.197074Z"
    },
    "papermill": {
     "duration": 8.698874,
     "end_time": "2022-07-31T23:26:57.200672",
     "exception": false,
     "start_time": "2022-07-31T23:26:48.501798",
     "status": "completed"
    },
    "tags": []
   },
   "outputs": [
    {
     "data": {
      "text/plain": [
       "'2.6.4'"
      ]
     },
     "execution_count": 10,
     "metadata": {},
     "output_type": "execute_result"
    }
   ],
   "source": [
    "import tensorflow as tf\n",
    "tf.__version__"
   ]
  },
  {
   "cell_type": "code",
   "execution_count": 11,
   "id": "1a76f0b6",
   "metadata": {
    "execution": {
     "iopub.execute_input": "2022-07-31T23:26:57.229386Z",
     "iopub.status.busy": "2022-07-31T23:26:57.228339Z",
     "iopub.status.idle": "2022-07-31T23:26:58.459728Z",
     "shell.execute_reply": "2022-07-31T23:26:58.458600Z"
    },
    "papermill": {
     "duration": 1.246726,
     "end_time": "2022-07-31T23:26:58.462407",
     "exception": false,
     "start_time": "2022-07-31T23:26:57.215681",
     "status": "completed"
    },
    "tags": []
   },
   "outputs": [],
   "source": [
    "from tensorflow.keras.layers import Embedding\n",
    "from tensorflow.keras.preprocessing.sequence import pad_sequences\n",
    "from tensorflow.keras.models import Sequential\n",
    "from tensorflow.keras.preprocessing.text import one_hot\n",
    "from tensorflow.keras.layers import LSTM\n",
    "from tensorflow.keras.layers import Dense"
   ]
  },
  {
   "cell_type": "code",
   "execution_count": 12,
   "id": "3aedc8a1",
   "metadata": {
    "execution": {
     "iopub.execute_input": "2022-07-31T23:26:58.484169Z",
     "iopub.status.busy": "2022-07-31T23:26:58.483769Z",
     "iopub.status.idle": "2022-07-31T23:26:58.488142Z",
     "shell.execute_reply": "2022-07-31T23:26:58.487370Z"
    },
    "papermill": {
     "duration": 0.017642,
     "end_time": "2022-07-31T23:26:58.490078",
     "exception": false,
     "start_time": "2022-07-31T23:26:58.472436",
     "status": "completed"
    },
    "tags": []
   },
   "outputs": [],
   "source": [
    "### Vocabulary size\n",
    "voc_size=5000"
   ]
  },
  {
   "cell_type": "markdown",
   "id": "843536ad",
   "metadata": {
    "papermill": {
     "duration": 0.009629,
     "end_time": "2022-07-31T23:26:58.509755",
     "exception": false,
     "start_time": "2022-07-31T23:26:58.500126",
     "status": "completed"
    },
    "tags": []
   },
   "source": [
    "# one hot representation"
   ]
  },
  {
   "cell_type": "code",
   "execution_count": 13,
   "id": "840715b5",
   "metadata": {
    "execution": {
     "iopub.execute_input": "2022-07-31T23:26:58.531936Z",
     "iopub.status.busy": "2022-07-31T23:26:58.530952Z",
     "iopub.status.idle": "2022-07-31T23:26:58.537855Z",
     "shell.execute_reply": "2022-07-31T23:26:58.536776Z"
    },
    "papermill": {
     "duration": 0.020498,
     "end_time": "2022-07-31T23:26:58.540263",
     "exception": false,
     "start_time": "2022-07-31T23:26:58.519765",
     "status": "completed"
    },
    "tags": []
   },
   "outputs": [],
   "source": [
    "messages=X.copy()"
   ]
  },
  {
   "cell_type": "code",
   "execution_count": 14,
   "id": "c20fa15e",
   "metadata": {
    "execution": {
     "iopub.execute_input": "2022-07-31T23:26:58.561931Z",
     "iopub.status.busy": "2022-07-31T23:26:58.561550Z",
     "iopub.status.idle": "2022-07-31T23:26:58.571401Z",
     "shell.execute_reply": "2022-07-31T23:26:58.570399Z"
    },
    "papermill": {
     "duration": 0.023571,
     "end_time": "2022-07-31T23:26:58.573753",
     "exception": false,
     "start_time": "2022-07-31T23:26:58.550182",
     "status": "completed"
    },
    "tags": []
   },
   "outputs": [
    {
     "data": {
      "text/plain": [
       "'FLYNN: Hillary Clinton, Big Woman on Campus - Breitbart'"
      ]
     },
     "execution_count": 14,
     "metadata": {},
     "output_type": "execute_result"
    }
   ],
   "source": [
    "messages['title'][1]"
   ]
  },
  {
   "cell_type": "code",
   "execution_count": 15,
   "id": "533695e4",
   "metadata": {
    "execution": {
     "iopub.execute_input": "2022-07-31T23:26:58.595857Z",
     "iopub.status.busy": "2022-07-31T23:26:58.595478Z",
     "iopub.status.idle": "2022-07-31T23:26:58.608568Z",
     "shell.execute_reply": "2022-07-31T23:26:58.607270Z"
    },
    "papermill": {
     "duration": 0.026613,
     "end_time": "2022-07-31T23:26:58.610750",
     "exception": false,
     "start_time": "2022-07-31T23:26:58.584137",
     "status": "completed"
    },
    "tags": []
   },
   "outputs": [
    {
     "data": {
      "text/html": [
       "<div>\n",
       "<style scoped>\n",
       "    .dataframe tbody tr th:only-of-type {\n",
       "        vertical-align: middle;\n",
       "    }\n",
       "\n",
       "    .dataframe tbody tr th {\n",
       "        vertical-align: top;\n",
       "    }\n",
       "\n",
       "    .dataframe thead th {\n",
       "        text-align: right;\n",
       "    }\n",
       "</style>\n",
       "<table border=\"1\" class=\"dataframe\">\n",
       "  <thead>\n",
       "    <tr style=\"text-align: right;\">\n",
       "      <th></th>\n",
       "      <th>id</th>\n",
       "      <th>title</th>\n",
       "      <th>author</th>\n",
       "      <th>text</th>\n",
       "    </tr>\n",
       "  </thead>\n",
       "  <tbody>\n",
       "    <tr>\n",
       "      <th>0</th>\n",
       "      <td>0</td>\n",
       "      <td>House Dem Aide: We Didn’t Even See Comey’s Let...</td>\n",
       "      <td>Darrell Lucus</td>\n",
       "      <td>House Dem Aide: We Didn’t Even See Comey’s Let...</td>\n",
       "    </tr>\n",
       "    <tr>\n",
       "      <th>1</th>\n",
       "      <td>1</td>\n",
       "      <td>FLYNN: Hillary Clinton, Big Woman on Campus - ...</td>\n",
       "      <td>Daniel J. Flynn</td>\n",
       "      <td>Ever get the feeling your life circles the rou...</td>\n",
       "    </tr>\n",
       "    <tr>\n",
       "      <th>2</th>\n",
       "      <td>2</td>\n",
       "      <td>Why the Truth Might Get You Fired</td>\n",
       "      <td>Consortiumnews.com</td>\n",
       "      <td>Why the Truth Might Get You Fired October 29, ...</td>\n",
       "    </tr>\n",
       "    <tr>\n",
       "      <th>3</th>\n",
       "      <td>3</td>\n",
       "      <td>15 Civilians Killed In Single US Airstrike Hav...</td>\n",
       "      <td>Jessica Purkiss</td>\n",
       "      <td>Videos 15 Civilians Killed In Single US Airstr...</td>\n",
       "    </tr>\n",
       "    <tr>\n",
       "      <th>4</th>\n",
       "      <td>4</td>\n",
       "      <td>Iranian woman jailed for fictional unpublished...</td>\n",
       "      <td>Howard Portnoy</td>\n",
       "      <td>Print \\nAn Iranian woman has been sentenced to...</td>\n",
       "    </tr>\n",
       "  </tbody>\n",
       "</table>\n",
       "</div>"
      ],
      "text/plain": [
       "   id                                              title              author  \\\n",
       "0   0  House Dem Aide: We Didn’t Even See Comey’s Let...       Darrell Lucus   \n",
       "1   1  FLYNN: Hillary Clinton, Big Woman on Campus - ...     Daniel J. Flynn   \n",
       "2   2                  Why the Truth Might Get You Fired  Consortiumnews.com   \n",
       "3   3  15 Civilians Killed In Single US Airstrike Hav...     Jessica Purkiss   \n",
       "4   4  Iranian woman jailed for fictional unpublished...      Howard Portnoy   \n",
       "\n",
       "                                                text  \n",
       "0  House Dem Aide: We Didn’t Even See Comey’s Let...  \n",
       "1  Ever get the feeling your life circles the rou...  \n",
       "2  Why the Truth Might Get You Fired October 29, ...  \n",
       "3  Videos 15 Civilians Killed In Single US Airstr...  \n",
       "4  Print \\nAn Iranian woman has been sentenced to...  "
      ]
     },
     "execution_count": 15,
     "metadata": {},
     "output_type": "execute_result"
    }
   ],
   "source": [
    "messages.head()"
   ]
  },
  {
   "cell_type": "code",
   "execution_count": 16,
   "id": "78557115",
   "metadata": {
    "execution": {
     "iopub.execute_input": "2022-07-31T23:26:58.633304Z",
     "iopub.status.busy": "2022-07-31T23:26:58.632936Z",
     "iopub.status.idle": "2022-07-31T23:27:00.124161Z",
     "shell.execute_reply": "2022-07-31T23:27:00.122920Z"
    },
    "papermill": {
     "duration": 1.505844,
     "end_time": "2022-07-31T23:27:00.127070",
     "exception": false,
     "start_time": "2022-07-31T23:26:58.621226",
     "status": "completed"
    },
    "tags": []
   },
   "outputs": [],
   "source": [
    "import nltk\n",
    "import re\n",
    "from nltk.corpus import stopwords\n",
    "messages.reset_index(inplace=True)"
   ]
  },
  {
   "cell_type": "code",
   "execution_count": 17,
   "id": "328e8046",
   "metadata": {
    "execution": {
     "iopub.execute_input": "2022-07-31T23:27:00.150009Z",
     "iopub.status.busy": "2022-07-31T23:27:00.149594Z",
     "iopub.status.idle": "2022-07-31T23:27:00.698018Z",
     "shell.execute_reply": "2022-07-31T23:27:00.697080Z"
    },
    "papermill": {
     "duration": 0.562735,
     "end_time": "2022-07-31T23:27:00.700268",
     "exception": false,
     "start_time": "2022-07-31T23:27:00.137533",
     "status": "completed"
    },
    "tags": []
   },
   "outputs": [
    {
     "name": "stdout",
     "output_type": "stream",
     "text": [
      "[nltk_data] Downloading package stopwords to /usr/share/nltk_data...\n",
      "[nltk_data]   Unzipping corpora/stopwords.zip.\n"
     ]
    },
    {
     "data": {
      "text/plain": [
       "True"
      ]
     },
     "execution_count": 17,
     "metadata": {},
     "output_type": "execute_result"
    }
   ],
   "source": [
    "nltk.download('stopwords')"
   ]
  },
  {
   "cell_type": "code",
   "execution_count": 18,
   "id": "156e915c",
   "metadata": {
    "execution": {
     "iopub.execute_input": "2022-07-31T23:27:00.725861Z",
     "iopub.status.busy": "2022-07-31T23:27:00.724860Z",
     "iopub.status.idle": "2022-07-31T23:27:37.409545Z",
     "shell.execute_reply": "2022-07-31T23:27:37.408317Z"
    },
    "papermill": {
     "duration": 36.700462,
     "end_time": "2022-07-31T23:27:37.412499",
     "exception": false,
     "start_time": "2022-07-31T23:27:00.712037",
     "status": "completed"
    },
    "tags": []
   },
   "outputs": [],
   "source": [
    "### Dataset Preprocessing\n",
    "from nltk.stem.porter import PorterStemmer\n",
    "ps = PorterStemmer()\n",
    "corpus = []\n",
    "for i in range(0, len(messages)):\n",
    "    review = re.sub('[^a-zA-Z]', ' ', messages['title'][i])\n",
    "    review = review.lower()\n",
    "    review = review.split()\n",
    "    \n",
    "    review = [ps.stem(word) for word in review if not word in stopwords.words('english')]\n",
    "    review = ' '.join(review)\n",
    "    corpus.append(review)\n"
   ]
  },
  {
   "cell_type": "code",
   "execution_count": 19,
   "id": "6d7e1f5d",
   "metadata": {
    "execution": {
     "iopub.execute_input": "2022-07-31T23:27:37.436930Z",
     "iopub.status.busy": "2022-07-31T23:27:37.436532Z",
     "iopub.status.idle": "2022-07-31T23:27:37.443625Z",
     "shell.execute_reply": "2022-07-31T23:27:37.442502Z"
    },
    "papermill": {
     "duration": 0.021463,
     "end_time": "2022-07-31T23:27:37.445663",
     "exception": false,
     "start_time": "2022-07-31T23:27:37.424200",
     "status": "completed"
    },
    "tags": []
   },
   "outputs": [
    {
     "data": {
      "text/plain": [
       "['hous dem aid even see comey letter jason chaffetz tweet',\n",
       " 'flynn hillari clinton big woman campu breitbart',\n",
       " 'truth might get fire',\n",
       " 'civilian kill singl us airstrik identifi',\n",
       " 'iranian woman jail fiction unpublish stori woman stone death adulteri',\n",
       " 'jacki mason hollywood would love trump bomb north korea lack tran bathroom exclus video breitbart',\n",
       " 'beno hamon win french socialist parti presidenti nomin new york time',\n",
       " 'back channel plan ukrain russia courtesi trump associ new york time',\n",
       " 'obama organ action partner soro link indivis disrupt trump agenda',\n",
       " 'bbc comedi sketch real housew isi caus outrag']"
      ]
     },
     "execution_count": 19,
     "metadata": {},
     "output_type": "execute_result"
    }
   ],
   "source": [
    "corpus[:10]"
   ]
  },
  {
   "cell_type": "code",
   "execution_count": 20,
   "id": "2e51c617",
   "metadata": {
    "execution": {
     "iopub.execute_input": "2022-07-31T23:27:37.469252Z",
     "iopub.status.busy": "2022-07-31T23:27:37.468852Z",
     "iopub.status.idle": "2022-07-31T23:27:37.731132Z",
     "shell.execute_reply": "2022-07-31T23:27:37.729996Z"
    },
    "papermill": {
     "duration": 0.277003,
     "end_time": "2022-07-31T23:27:37.733584",
     "exception": false,
     "start_time": "2022-07-31T23:27:37.456581",
     "status": "completed"
    },
    "tags": []
   },
   "outputs": [
    {
     "data": {
      "text/plain": [
       "[[4005, 3331, 3288, 4210, 1367, 4921, 720, 2253, 1233, 196],\n",
       " [3596, 4303, 4858, 834, 4789, 4708, 4683],\n",
       " [1136, 4630, 28, 684],\n",
       " [1321, 949, 150, 554, 3572, 77],\n",
       " [4251, 4789, 2056, 4700, 3898, 95, 4789, 526, 2515, 3147],\n",
       " [2399,\n",
       "  1283,\n",
       "  2949,\n",
       "  2914,\n",
       "  3094,\n",
       "  2392,\n",
       "  3146,\n",
       "  580,\n",
       "  1199,\n",
       "  821,\n",
       "  4364,\n",
       "  2399,\n",
       "  1730,\n",
       "  3925,\n",
       "  4683],\n",
       " [4832, 4016, 2333, 1098, 3132, 4802, 529, 1444, 406, 4091, 4503],\n",
       " [1338, 970, 4343, 4632, 317, 3761, 2392, 1226, 406, 4091, 4503],\n",
       " [4013, 234, 434, 438, 4465, 1586, 4642, 148, 2392, 469],\n",
       " [3487, 1112, 1215, 4496, 2675, 3459, 1564, 1648]]"
      ]
     },
     "execution_count": 20,
     "metadata": {},
     "output_type": "execute_result"
    }
   ],
   "source": [
    "onehot_repr=[one_hot(sent,voc_size)for sent in corpus] \n",
    "onehot_repr[:10]"
   ]
  },
  {
   "cell_type": "markdown",
   "id": "fab22dae",
   "metadata": {
    "papermill": {
     "duration": 0.010782,
     "end_time": "2022-07-31T23:27:37.755465",
     "exception": false,
     "start_time": "2022-07-31T23:27:37.744683",
     "status": "completed"
    },
    "tags": []
   },
   "source": [
    "# Embedding representation"
   ]
  },
  {
   "cell_type": "code",
   "execution_count": 21,
   "id": "491130be",
   "metadata": {
    "execution": {
     "iopub.execute_input": "2022-07-31T23:27:37.779372Z",
     "iopub.status.busy": "2022-07-31T23:27:37.778932Z",
     "iopub.status.idle": "2022-07-31T23:27:37.871244Z",
     "shell.execute_reply": "2022-07-31T23:27:37.869568Z"
    },
    "papermill": {
     "duration": 0.10885,
     "end_time": "2022-07-31T23:27:37.875449",
     "exception": false,
     "start_time": "2022-07-31T23:27:37.766599",
     "status": "completed"
    },
    "tags": []
   },
   "outputs": [
    {
     "name": "stdout",
     "output_type": "stream",
     "text": [
      "[[   0    0    0 ... 2253 1233  196]\n",
      " [   0    0    0 ... 4789 4708 4683]\n",
      " [   0    0    0 ... 4630   28  684]\n",
      " ...\n",
      " [   0    0    0 ...  406 4091 4503]\n",
      " [   0    0    0 ...   89 3653  985]\n",
      " [   0    0    0 ... 2659 2773 4889]]\n"
     ]
    }
   ],
   "source": [
    "sent_length=20\n",
    "embedded_docs=pad_sequences(onehot_repr,padding='pre',maxlen=sent_length)\n",
    "print(embedded_docs)"
   ]
  },
  {
   "cell_type": "code",
   "execution_count": 22,
   "id": "764540e7",
   "metadata": {
    "execution": {
     "iopub.execute_input": "2022-07-31T23:27:37.901017Z",
     "iopub.status.busy": "2022-07-31T23:27:37.900306Z",
     "iopub.status.idle": "2022-07-31T23:27:38.338995Z",
     "shell.execute_reply": "2022-07-31T23:27:38.337770Z"
    },
    "papermill": {
     "duration": 0.454682,
     "end_time": "2022-07-31T23:27:38.341848",
     "exception": false,
     "start_time": "2022-07-31T23:27:37.887166",
     "status": "completed"
    },
    "tags": []
   },
   "outputs": [
    {
     "name": "stderr",
     "output_type": "stream",
     "text": [
      "2022-07-31 23:27:37.940544: I tensorflow/core/common_runtime/process_util.cc:146] Creating new thread pool with default inter op setting: 2. Tune using inter_op_parallelism_threads for best performance.\n"
     ]
    }
   ],
   "source": [
    "from tensorflow.keras.layers import Dropout\n",
    "## Creating model\n",
    "embedding_vector_features=40\n",
    "model=Sequential()\n",
    "model.add(Embedding(voc_size,embedding_vector_features,input_length=sent_length))\n",
    "model.add(Dropout(0.3))\n",
    "model.add(LSTM(100))\n",
    "model.add(Dropout(0.3))\n",
    "model.add(Dense(8,activation='relu')),\n",
    "model.add(Dense(1,activation='sigmoid')),\n",
    "model.compile(loss='binary_crossentropy',optimizer='adam',metrics=['binary_accuracy'])"
   ]
  },
  {
   "cell_type": "code",
   "execution_count": 23,
   "id": "9e2ff6d0",
   "metadata": {
    "execution": {
     "iopub.execute_input": "2022-07-31T23:27:38.366687Z",
     "iopub.status.busy": "2022-07-31T23:27:38.365475Z",
     "iopub.status.idle": "2022-07-31T23:27:38.372168Z",
     "shell.execute_reply": "2022-07-31T23:27:38.371396Z"
    },
    "papermill": {
     "duration": 0.021346,
     "end_time": "2022-07-31T23:27:38.374416",
     "exception": false,
     "start_time": "2022-07-31T23:27:38.353070",
     "status": "completed"
    },
    "tags": []
   },
   "outputs": [
    {
     "data": {
      "text/plain": [
       "(18285, (18285,))"
      ]
     },
     "execution_count": 23,
     "metadata": {},
     "output_type": "execute_result"
    }
   ],
   "source": [
    "len(embedded_docs),y.shape"
   ]
  },
  {
   "cell_type": "code",
   "execution_count": 24,
   "id": "1bd14987",
   "metadata": {
    "execution": {
     "iopub.execute_input": "2022-07-31T23:27:38.399195Z",
     "iopub.status.busy": "2022-07-31T23:27:38.398384Z",
     "iopub.status.idle": "2022-07-31T23:27:38.405302Z",
     "shell.execute_reply": "2022-07-31T23:27:38.404419Z"
    },
    "papermill": {
     "duration": 0.021815,
     "end_time": "2022-07-31T23:27:38.407570",
     "exception": false,
     "start_time": "2022-07-31T23:27:38.385755",
     "status": "completed"
    },
    "tags": []
   },
   "outputs": [],
   "source": [
    "import numpy as np\n",
    "X_final=np.array(embedded_docs)\n",
    "y_final=np.array(y)"
   ]
  },
  {
   "cell_type": "code",
   "execution_count": 25,
   "id": "c14099ce",
   "metadata": {
    "execution": {
     "iopub.execute_input": "2022-07-31T23:27:38.432110Z",
     "iopub.status.busy": "2022-07-31T23:27:38.431389Z",
     "iopub.status.idle": "2022-07-31T23:27:38.437864Z",
     "shell.execute_reply": "2022-07-31T23:27:38.436983Z"
    },
    "papermill": {
     "duration": 0.021072,
     "end_time": "2022-07-31T23:27:38.439856",
     "exception": false,
     "start_time": "2022-07-31T23:27:38.418784",
     "status": "completed"
    },
    "tags": []
   },
   "outputs": [
    {
     "data": {
      "text/plain": [
       "((18285, 20), (18285,))"
      ]
     },
     "execution_count": 25,
     "metadata": {},
     "output_type": "execute_result"
    }
   ],
   "source": [
    "X_final.shape,y_final.shape"
   ]
  },
  {
   "cell_type": "code",
   "execution_count": 26,
   "id": "dcdc7fa8",
   "metadata": {
    "execution": {
     "iopub.execute_input": "2022-07-31T23:27:38.464964Z",
     "iopub.status.busy": "2022-07-31T23:27:38.464263Z",
     "iopub.status.idle": "2022-07-31T23:27:38.472633Z",
     "shell.execute_reply": "2022-07-31T23:27:38.471416Z"
    },
    "papermill": {
     "duration": 0.023048,
     "end_time": "2022-07-31T23:27:38.474692",
     "exception": false,
     "start_time": "2022-07-31T23:27:38.451644",
     "status": "completed"
    },
    "tags": []
   },
   "outputs": [
    {
     "data": {
      "text/plain": [
       "((15000, 20), (15000,), (1700, 20), (1700,), (1585, 20), (1585,))"
      ]
     },
     "execution_count": 26,
     "metadata": {},
     "output_type": "execute_result"
    }
   ],
   "source": [
    "X_train, y_train = X_final[:15000], y_final[:15000]\n",
    "X_valid, y_valid = X_final[15000:16700], y_final[15000:16700]\n",
    "X_test, y_test = X_final[16700:], y_final[16700:]\n",
    "X_train.shape, y_train.shape, X_valid.shape, y_valid.shape, X_test.shape, y_test.shape"
   ]
  },
  {
   "cell_type": "code",
   "execution_count": 27,
   "id": "66a72974",
   "metadata": {
    "execution": {
     "iopub.execute_input": "2022-07-31T23:27:38.499438Z",
     "iopub.status.busy": "2022-07-31T23:27:38.498827Z",
     "iopub.status.idle": "2022-07-31T23:28:22.137164Z",
     "shell.execute_reply": "2022-07-31T23:28:22.135997Z"
    },
    "papermill": {
     "duration": 43.653664,
     "end_time": "2022-07-31T23:28:22.139750",
     "exception": false,
     "start_time": "2022-07-31T23:27:38.486086",
     "status": "completed"
    },
    "tags": []
   },
   "outputs": [
    {
     "name": "stderr",
     "output_type": "stream",
     "text": [
      "2022-07-31 23:27:38.556733: I tensorflow/compiler/mlir/mlir_graph_optimization_pass.cc:185] None of the MLIR Optimization Passes are enabled (registered 2)\n"
     ]
    },
    {
     "name": "stdout",
     "output_type": "stream",
     "text": [
      "Epoch 1/20\n",
      "118/118 [==============================] - 8s 43ms/step - loss: 0.3970 - binary_accuracy: 0.7947 - val_loss: 0.2194 - val_binary_accuracy: 0.9012\n",
      "Epoch 2/20\n",
      "118/118 [==============================] - 5s 39ms/step - loss: 0.1727 - binary_accuracy: 0.9288 - val_loss: 0.2035 - val_binary_accuracy: 0.9076\n",
      "Epoch 3/20\n",
      "118/118 [==============================] - 5s 39ms/step - loss: 0.1253 - binary_accuracy: 0.9533 - val_loss: 0.2108 - val_binary_accuracy: 0.9165\n",
      "Epoch 4/20\n",
      "118/118 [==============================] - 5s 39ms/step - loss: 0.0979 - binary_accuracy: 0.9643 - val_loss: 0.2314 - val_binary_accuracy: 0.9188\n",
      "Epoch 5/20\n",
      "118/118 [==============================] - 5s 46ms/step - loss: 0.0726 - binary_accuracy: 0.9741 - val_loss: 0.2278 - val_binary_accuracy: 0.9100\n",
      "Epoch 6/20\n",
      "118/118 [==============================] - 5s 39ms/step - loss: 0.0591 - binary_accuracy: 0.9803 - val_loss: 0.2711 - val_binary_accuracy: 0.9147\n",
      "Epoch 7/20\n",
      "118/118 [==============================] - 5s 39ms/step - loss: 0.0524 - binary_accuracy: 0.9826 - val_loss: 0.2949 - val_binary_accuracy: 0.9100\n"
     ]
    },
    {
     "data": {
      "text/plain": [
       "<AxesSubplot:title={'center':'Accuracy'}>"
      ]
     },
     "execution_count": 27,
     "metadata": {},
     "output_type": "execute_result"
    },
    {
     "data": {
      "image/png": "[encoded data removed]",
      "text/plain": [
       "<Figure size 432x288 with 1 Axes>"
      ]
     },
     "metadata": {
      "needs_background": "light"
     },
     "output_type": "display_data"
    },
    {
     "data": {
      "image/png": "[encoded data removed]",
      "text/plain": [
       "<Figure size 432x288 with 1 Axes>"
      ]
     },
     "metadata": {
      "needs_background": "light"
     },
     "output_type": "display_data"
    }
   ],
   "source": [
    "from tensorflow import keras\n",
    "### Finally Training\n",
    "early_stopping = keras.callbacks.EarlyStopping(\n",
    "    patience=5,\n",
    "    min_delta=0.001,\n",
    "    restore_best_weights=True,\n",
    ")\n",
    "history = model.fit(\n",
    "    X_train, y_train,\n",
    "    validation_data=(X_valid, y_valid),\n",
    "    batch_size=128,\n",
    "    epochs=20,\n",
    "    callbacks=[early_stopping],\n",
    ")\n",
    "\n",
    "history_df = pd.DataFrame(history.history)\n",
    "history_df.loc[:, ['loss', 'val_loss']].plot(title=\"Cross-entropy\")\n",
    "history_df.loc[:, ['binary_accuracy', 'val_binary_accuracy']].plot(title=\"Accuracy\")"
   ]
  },
  {
   "cell_type": "code",
   "execution_count": 28,
   "id": "7a41ba85",
   "metadata": {
    "execution": {
     "iopub.execute_input": "2022-07-31T23:28:22.227842Z",
     "iopub.status.busy": "2022-07-31T23:28:22.227144Z",
     "iopub.status.idle": "2022-07-31T23:28:23.060086Z",
     "shell.execute_reply": "2022-07-31T23:28:23.058897Z"
    },
    "papermill": {
     "duration": 0.879391,
     "end_time": "2022-07-31T23:28:23.062566",
     "exception": false,
     "start_time": "2022-07-31T23:28:22.183175",
     "status": "completed"
    },
    "tags": []
   },
   "outputs": [
    {
     "data": {
      "text/plain": [
       "array([[2.9485822e-03],\n",
       "       [1.1251867e-03],\n",
       "       [1.0558367e-03],\n",
       "       ...,\n",
       "       [5.3369999e-04],\n",
       "       [9.4280243e-01],\n",
       "       [8.7648338e-01]], dtype=float32)"
      ]
     },
     "execution_count": 28,
     "metadata": {},
     "output_type": "execute_result"
    }
   ],
   "source": [
    "y_predict=model.predict(X_test) \n",
    "y_predict"
   ]
  },
  {
   "cell_type": "code",
   "execution_count": 29,
   "id": "f7d05e5f",
   "metadata": {
    "execution": {
     "iopub.execute_input": "2022-07-31T23:28:23.151030Z",
     "iopub.status.busy": "2022-07-31T23:28:23.150231Z",
     "iopub.status.idle": "2022-07-31T23:28:23.157734Z",
     "shell.execute_reply": "2022-07-31T23:28:23.156884Z"
    },
    "papermill": {
     "duration": 0.054928,
     "end_time": "2022-07-31T23:28:23.159929",
     "exception": false,
     "start_time": "2022-07-31T23:28:23.105001",
     "status": "completed"
    },
    "tags": []
   },
   "outputs": [
    {
     "data": {
      "text/plain": [
       "array([[0],\n",
       "       [0],\n",
       "       [0],\n",
       "       ...,\n",
       "       [0],\n",
       "       [1],\n",
       "       [1]], dtype=int32)"
      ]
     },
     "execution_count": 29,
     "metadata": {},
     "output_type": "execute_result"
    }
   ],
   "source": [
    "y_predict=(y_predict > 0.5).astype(\"int32\")\n",
    "y_predict"
   ]
  },
  {
   "cell_type": "code",
   "execution_count": 30,
   "id": "36704d8c",
   "metadata": {
    "execution": {
     "iopub.execute_input": "2022-07-31T23:28:23.247169Z",
     "iopub.status.busy": "2022-07-31T23:28:23.246426Z",
     "iopub.status.idle": "2022-07-31T23:28:23.251320Z",
     "shell.execute_reply": "2022-07-31T23:28:23.250569Z"
    },
    "papermill": {
     "duration": 0.051331,
     "end_time": "2022-07-31T23:28:23.253553",
     "exception": false,
     "start_time": "2022-07-31T23:28:23.202222",
     "status": "completed"
    },
    "tags": []
   },
   "outputs": [],
   "source": [
    "from sklearn.metrics import confusion_matrix"
   ]
  },
  {
   "cell_type": "code",
   "execution_count": 31,
   "id": "67fa727d",
   "metadata": {
    "execution": {
     "iopub.execute_input": "2022-07-31T23:28:23.342029Z",
     "iopub.status.busy": "2022-07-31T23:28:23.341242Z",
     "iopub.status.idle": "2022-07-31T23:28:23.349457Z",
     "shell.execute_reply": "2022-07-31T23:28:23.348412Z"
    },
    "papermill": {
     "duration": 0.05545,
     "end_time": "2022-07-31T23:28:23.351647",
     "exception": false,
     "start_time": "2022-07-31T23:28:23.296197",
     "status": "completed"
    },
    "tags": []
   },
   "outputs": [
    {
     "data": {
      "text/plain": [
       "array([[793,  70],\n",
       "       [ 89, 633]])"
      ]
     },
     "execution_count": 31,
     "metadata": {},
     "output_type": "execute_result"
    }
   ],
   "source": [
    "confusion_matrix(y_test,y_predict)"
   ]
  },
  {
   "cell_type": "code",
   "execution_count": 32,
   "id": "5202b8f7",
   "metadata": {
    "execution": {
     "iopub.execute_input": "2022-07-31T23:28:23.438787Z",
     "iopub.status.busy": "2022-07-31T23:28:23.437987Z",
     "iopub.status.idle": "2022-07-31T23:28:23.445773Z",
     "shell.execute_reply": "2022-07-31T23:28:23.444682Z"
    },
    "papermill": {
     "duration": 0.05388,
     "end_time": "2022-07-31T23:28:23.448072",
     "exception": false,
     "start_time": "2022-07-31T23:28:23.394192",
     "status": "completed"
    },
    "tags": []
   },
   "outputs": [
    {
     "data": {
      "text/plain": [
       "0.8996845425867508"
      ]
     },
     "execution_count": 32,
     "metadata": {},
     "output_type": "execute_result"
    }
   ],
   "source": [
    "from sklearn.metrics import accuracy_score\n",
    "accuracy_score(y_test,y_predict)"
   ]
  },
  {
   "cell_type": "code",
   "execution_count": null,
   "id": "9dc2b5cb",
   "metadata": {
    "papermill": {
     "duration": 0.042784,
     "end_time": "2022-07-31T23:28:23.533339",
     "exception": false,
     "start_time": "2022-07-31T23:28:23.490555",
     "status": "completed"
    },
    "tags": []
   },
   "outputs": [],
   "source": []
  }
 ],
 "metadata": {
  "kernelspec": {
   "display_name": "Python 3",
   "language": "python",
   "name": "python3"
  },
  "language_info": {
   "codemirror_mode": {
    "name": "ipython",
    "version": 3
   },
   "file_extension": ".py",
   "mimetype": "text/x-python",
   "name": "python",
   "nbconvert_exporter": "python",
   "pygments_lexer": "ipython3",
   "version": "3.7.12"
  },
  "papermill": {
   "default_parameters": {},
   "duration": 110.666851,
   "end_time": "2022-07-31T23:28:26.319397",
   "environment_variables": {},
   "exception": null,
   "input_path": "__notebook__.ipynb",
   "output_path": "__notebook__.ipynb",
   "parameters": {},
   "start_time": "2022-07-31T23:26:35.652546",
   "version": "2.3.4"
  }
 },
 "nbformat": 4,
 "nbformat_minor": 5
}
